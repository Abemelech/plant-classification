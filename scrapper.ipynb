{
 "cells": [
  {
   "cell_type": "code",
   "execution_count": null,
   "metadata": {},
   "outputs": [],
   "source": [
    "from selenium import webdriver\n",
    "from selenium.webdriver.common.by import By\n",
    "from bs4 import BeautifulSoup\n",
    "import time\n",
    "import os\n",
    "import urllib.request\n",
    "import pathlib\n",
    "import urllib3\n",
    "from concurrent.futures import ThreadPoolExecutor"
   ]
  },
  {
   "cell_type": "code",
   "execution_count": null,
   "metadata": {},
   "outputs": [],
   "source": [
    "plant_name_list = [\"carrots\",'potato','tomato','onions','lettuce','bell pepper','pumpkin','zucchini','cauliflower','cucumber']"
   ]
  },
  {
   "cell_type": "code",
   "execution_count": null,
   "metadata": {},
   "outputs": [],
   "source": [
    "DRIVER_PATH = 'chromedriver.exe'\n",
    "driver = webdriver.Chrome(executable_path=DRIVER_PATH)\n",
    "for i in range(len(plant_name_list)):\n",
    "    plant = plant_name_list[i]\n",
    "    driver.get('https://www.google.com/search?q=' + plant +'&sxsrf=ALiCzsaji2Ezf_rA_JnE3VktpaOIKntPwQ:1669746319888&source=lnms&tbm=isch&sa=X&ved=2ahUKEwic74vigdT7AhU-BjQIHVMDA_wQ_AUoAXoECAIQAw&biw=458&bih=992&dpr=1.25')\n",
    "    height_before = driver.execute_script(\"return document.body.scrollHeight\")\n",
    "    for i in range(15):\n",
    "        driver.execute_script(\"window.scrollTo(0, document.body.scrollHeight)\")\n",
    "        height_after = driver.execute_script(\"return document.body.scrollHeight\")\n",
    "        time.sleep(3)\n",
    "        if (height_after == height_before):\n",
    "            try:\n",
    "                element = driver.find_elements(By.CLASS_NAME, \"mye4qd\")[0].click()\n",
    "                element[0].click()\n",
    "            except:\n",
    "                pass\n",
    "        height_before = height_after\n",
    "    soup = BeautifulSoup(driver.page_source)\n",
    "    pictures = soup.find_all(\"div\", {\"class\": \"isv-r PNCib MSM1fd BUooTd\"})\n",
    "    \n",
    "\n",
    "    urls = []\n",
    "    for each in pictures:\n",
    "        img = each.find(\"img\")\n",
    "        if img.has_attr('src'):\n",
    "            print(img['src'])\n",
    "            urls.append(img['src'])\n",
    "    len(urls)\n",
    "\n",
    "    try:\n",
    "        os.makedirs(\"plant/\" + plant)\n",
    "    except FileExistsError:\n",
    "        pass\n",
    "\n",
    "\n",
    "    def downloader(link, i):\n",
    "        file_name = \"plant/\" + plant + \"/\" + plant + str(i) + \".jpeg\"\n",
    "        urllib.request.urlretrieve(link, file_name)\n",
    "        # time.sleep(5)\n",
    "\n",
    "    # connection_mgr = urllib3.PoolManager(maxsize=5)\n",
    "    # thread_pool = ThreadPoolExecutor(5)\n",
    "\n",
    "    with ThreadPoolExecutor() as executor:\n",
    "        i = range(len(urls))\n",
    "        results = executor.map(downloader, urls, i)\n",
    "\n",
    "\n",
    "    \n",
    "                  \n",
    "\n",
    "          \n",
    "            \n",
    "       \n",
    "    \n",
    "   "
   ]
  },
  {
   "cell_type": "code",
   "execution_count": null,
   "metadata": {},
   "outputs": [],
   "source": []
  }
 ],
 "metadata": {
  "kernelspec": {
   "display_name": "Python 3.10.8 64-bit (microsoft store)",
   "language": "python",
   "name": "python3"
  },
  "language_info": {
   "name": "python",
   "version": "3.10.8"
  },
  "orig_nbformat": 4,
  "vscode": {
   "interpreter": {
    "hash": "818d3abc411dffc2aabb3183182ccfad5419d2b24802795a8b9c8335a5be77fa"
   }
  }
 },
 "nbformat": 4,
 "nbformat_minor": 2
}
